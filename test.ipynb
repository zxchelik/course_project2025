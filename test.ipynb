{
 "cells": [
  {
   "metadata": {
    "ExecuteTime": {
     "end_time": "2025-01-30T01:50:12.364474Z",
     "start_time": "2025-01-30T01:50:12.361308Z"
    }
   },
   "cell_type": "code",
   "source": [
    "from database.models import Cassette\n",
    "from database.models.blank_cassettes import CassetteType\n",
    "from database.models.cassette import CassetteState\n",
    "from database.modelsDTO.cassette import RawCassetteModel\n",
    "\n",
    "r = RawCassetteModel(\n",
    "    name=\"Сосал5000\",\n",
    "    state=CassetteState.CUT,\n",
    "    type=CassetteType.CASSETTE,\n",
    "    priority=1,\n",
    "    technical_comment=\"коммент\"\n",
    ")"
   ],
   "id": "3984bfcf1b0da50",
   "outputs": [],
   "execution_count": 12
  },
  {
   "metadata": {
    "ExecuteTime": {
     "end_time": "2025-01-30T01:50:26.017018Z",
     "start_time": "2025-01-30T01:50:26.015112Z"
    }
   },
   "cell_type": "code",
   "source": "print(r.to_str_table_view_welding())",
   "id": "55610f901047ca86",
   "outputs": [
    {
     "name": "stdout",
     "output_type": "stream",
     "text": [
      "Наимен.:Сосал5000        \n",
      "Приор. :1                \n",
      "Тип    :Кассета          \n",
      "Т. ком.:коммент          \n",
      "\n"
     ]
    }
   ],
   "execution_count": 15
  }
 ],
 "metadata": {
  "kernelspec": {
   "display_name": "Python 3",
   "language": "python",
   "name": "python3"
  },
  "language_info": {
   "codemirror_mode": {
    "name": "ipython",
    "version": 2
   },
   "file_extension": ".py",
   "mimetype": "text/x-python",
   "name": "python",
   "nbconvert_exporter": "python",
   "pygments_lexer": "ipython2",
   "version": "2.7.6"
  }
 },
 "nbformat": 4,
 "nbformat_minor": 5
}
